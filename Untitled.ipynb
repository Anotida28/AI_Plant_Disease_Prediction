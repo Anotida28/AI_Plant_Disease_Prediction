{
 "cells": [
  {
   "cell_type": "code",
   "execution_count": null,
   "id": "dfcbd580-37ea-4b08-aeba-423e0a7a196c",
   "metadata": {},
   "outputs": [],
   "source": []
  }
 ],
 "metadata": {
  "kernelspec": {
   "display_name": "",
   "name": ""
  },
  "language_info": {
   "name": ""
  }
 },
 "nbformat": 4,
 "nbformat_minor": 5
}
