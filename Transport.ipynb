{
 "cells": [
  {
   "cell_type": "code",
   "execution_count": 1,
   "id": "b31d7820-eed1-4fdd-a274-c64292fc6b5e",
   "metadata": {},
   "outputs": [],
   "source": [
    "import pandas as pd\n",
    "import numpy as np\n",
    "from scipy.optimize import linprog"
   ]
  },
  {
   "cell_type": "code",
   "execution_count": 2,
   "id": "f4702c29-5fb4-48dc-b2bb-84dd1c7e1e23",
   "metadata": {},
   "outputs": [
    {
     "name": "stdout",
     "output_type": "stream",
     "text": [
      "Optimal solution found:\n",
      "\n",
      "Optimal Transportation Plan (Units transported from Source to Destination):\n",
      "\n",
      "          Gweru  Masvingo  Kwekwe\n",
      "Harare     80.0      20.0     0.0\n",
      "Bulawayo    0.0     150.0     0.0\n",
      "Mutare      0.0       0.0   120.0\n",
      "\n",
      "Total Minimum Transportation Cost: ZWL $490.00\n"
     ]
    },
    {
     "name": "stderr",
     "output_type": "stream",
     "text": [
      "C:\\Users\\rusha\\AppData\\Local\\Temp\\ipykernel_10040\\970135612.py:50: DeprecationWarning: `method='simplex'` is deprecated and will be removed in SciPy 1.11.0. Please use one of the HiGHS solvers (e.g. `method='highs'`) in new code.\n",
      "  result = linprog(cost_list, A_eq=A_eq, b_eq=b_eq, bounds=bounds, method='simplex')\n",
      "C:\\Users\\rusha\\AppData\\Local\\Temp\\ipykernel_10040\\970135612.py:50: OptimizeWarning: A_eq does not appear to be of full row rank. To improve performance, check the problem formulation for redundant equality constraints.\n",
      "  result = linprog(cost_list, A_eq=A_eq, b_eq=b_eq, bounds=bounds, method='simplex')\n"
     ]
    }
   ],
   "source": [
    "\n",
    "# Supply capacities at each source\n",
    "supply = {'Harare': 100, 'Bulawayo': 150, 'Mutare': 120}\n",
    "supply_values = list(supply.values())\n",
    "num_sources = len(supply)\n",
    "\n",
    "# Demand at each destination\n",
    "demand = {'Gweru': 80, 'Masvingo': 170, 'Kwekwe': 120}\n",
    "demand_values = list(demand.values())\n",
    "num_destinations = len(demand)\n",
    "\n",
    "# Cost of transporting one unit from each source to each destination (Zimbabwean Dollars - ZWL)\n",
    "costs_data = [\n",
    "    [2, 3, 4],   # Harare to Gweru, Masvingo, Kwekwe\n",
    "    [5, 1, 2],   # Bulawayo to Gweru, Masvingo, Kwekwe\n",
    "    [3, 4, 1]    # Mutare to Gweru, Masvingo, Kwekwe\n",
    "]\n",
    "costs_df = pd.DataFrame(costs_data, index=supply.keys(), columns=demand.keys())\n",
    "cost_list = costs_df.values.flatten()\n",
    "\n",
    "# We now create the constraint matrices and vectors for linprog\n",
    "\n",
    "# Supply constraints (equality constraints since total supply equals total demand in this balanced problem)\n",
    "A_eq_supply = np.zeros((num_sources, num_sources * num_destinations))\n",
    "for i in range(num_sources):\n",
    "    A_eq_supply[i, i * num_destinations : (i + 1) * num_destinations] = 1\n",
    "b_eq_supply = supply_values\n",
    "\n",
    "# Demand constraints (equality constraints)\n",
    "A_eq_demand = np.zeros((num_destinations, num_sources * num_destinations))\n",
    "for j in range(num_destinations):\n",
    "    for i in range(num_sources):\n",
    "        A_eq_demand[j, i * num_destinations + j] = 1\n",
    "b_eq_demand = demand_values\n",
    "\n",
    "# Combine equality constraints\n",
    "A_eq = np.vstack((A_eq_supply, A_eq_demand))\n",
    "b_eq = np.hstack((b_eq_supply, b_eq_demand))\n",
    "\n",
    "# Bounds for decision variables (non-negative)\n",
    "bounds = [(0, None)] * (num_sources * num_destinations)\n",
    "\n",
    "#  Solving the Linear Programming Problem ---\n",
    "result = linprog(cost_list, A_eq=A_eq, b_eq=b_eq, bounds=bounds, method='simplex')\n",
    "\n",
    "#  Analyzing and presenting the results\n",
    "if result.success:\n",
    "    print(\"Optimal solution found:\")\n",
    "    optimal_flow = np.reshape(result.x, (num_sources, num_destinations))\n",
    "    optimal_df = pd.DataFrame(optimal_flow, index=supply.keys(), columns=demand.keys())\n",
    "    print(\"\\nOptimal Transportation Plan (Units transported from Source to Destination):\\n\")\n",
    "    print(optimal_df)\n",
    "    print(f\"\\nTotal Minimum Transportation Cost: ZWL ${result.fun:.2f}\")\n",
    "else:\n",
    "    print(\"Optimal solution not found.\")\n",
    "    print(f\"Reason: {result.message}\")"
   ]
  },
  {
   "cell_type": "code",
   "execution_count": null,
   "id": "27db45f3-23cf-44ae-b69a-3a1775d7e437",
   "metadata": {},
   "outputs": [],
   "source": []
  }
 ],
 "metadata": {
  "kernelspec": {
   "display_name": "Python 3 (ipykernel)",
   "language": "python",
   "name": "python3"
  },
  "language_info": {
   "codemirror_mode": {
    "name": "ipython",
    "version": 3
   },
   "file_extension": ".py",
   "mimetype": "text/x-python",
   "name": "python",
   "nbconvert_exporter": "python",
   "pygments_lexer": "ipython3",
   "version": "3.13.2"
  }
 },
 "nbformat": 4,
 "nbformat_minor": 5
}
